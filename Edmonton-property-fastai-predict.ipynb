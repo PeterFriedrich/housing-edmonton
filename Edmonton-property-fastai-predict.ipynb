{
 "cells": [
  {
   "cell_type": "markdown",
   "metadata": {},
   "source": [
    "# Edmonton Property Price Prediction Using FastAI\n",
    "The machine learning workflow in this notebook is mostly pulled from the FastAI tabular models lesson."
   ]
  },
  {
   "cell_type": "markdown",
   "metadata": {},
   "source": [
    "### Goal:\n",
    "Build a housing model that predicts assessed value."
   ]
  },
  {
   "cell_type": "markdown",
   "metadata": {},
   "source": [
    "### Importing and Loading Dataset"
   ]
  },
  {
   "cell_type": "code",
   "execution_count": 1,
   "metadata": {},
   "outputs": [],
   "source": [
    "from fastai import *\n",
    "from fastai.tabular import *"
   ]
  },
  {
   "cell_type": "code",
   "execution_count": 2,
   "metadata": {},
   "outputs": [],
   "source": [
    "path = 'datasets/edmonton-property.csv'\n",
    "df = pd.read_csv(path)"
   ]
  },
  {
   "cell_type": "markdown",
   "metadata": {},
   "source": [
    "Need to specify processing, categorical names, continuous names, and the dependent variable."
   ]
  },
  {
   "cell_type": "code",
   "execution_count": 3,
   "metadata": {},
   "outputs": [
    {
     "data": {
      "text/html": [
       "<div>\n",
       "<style scoped>\n",
       "    .dataframe tbody tr th:only-of-type {\n",
       "        vertical-align: middle;\n",
       "    }\n",
       "\n",
       "    .dataframe tbody tr th {\n",
       "        vertical-align: top;\n",
       "    }\n",
       "\n",
       "    .dataframe thead th {\n",
       "        text-align: right;\n",
       "    }\n",
       "</style>\n",
       "<table border=\"1\" class=\"dataframe\">\n",
       "  <thead>\n",
       "    <tr style=\"text-align: right;\">\n",
       "      <th></th>\n",
       "      <th>Account Number</th>\n",
       "      <th>Suite</th>\n",
       "      <th>House Number</th>\n",
       "      <th>Street Name</th>\n",
       "      <th>Assessed Value</th>\n",
       "      <th>Assessment Class</th>\n",
       "      <th>Neighbourhood ID</th>\n",
       "      <th>Neighbourhood</th>\n",
       "      <th>Ward</th>\n",
       "      <th>Garage</th>\n",
       "      <th>Latitude</th>\n",
       "      <th>Longitude</th>\n",
       "    </tr>\n",
       "  </thead>\n",
       "  <tbody>\n",
       "    <tr>\n",
       "      <td>0</td>\n",
       "      <td>8392904</td>\n",
       "      <td>NaN</td>\n",
       "      <td>9035.0</td>\n",
       "      <td>90 STREET NW</td>\n",
       "      <td>352500</td>\n",
       "      <td>Residential</td>\n",
       "      <td>6040.0</td>\n",
       "      <td>BONNIE DOON</td>\n",
       "      <td>Ward 8</td>\n",
       "      <td>Y</td>\n",
       "      <td>53.526362</td>\n",
       "      <td>-113.464935</td>\n",
       "    </tr>\n",
       "    <tr>\n",
       "      <td>1</td>\n",
       "      <td>10063906</td>\n",
       "      <td>NaN</td>\n",
       "      <td>1535.0</td>\n",
       "      <td>37B AVENUE NW</td>\n",
       "      <td>382500</td>\n",
       "      <td>Residential</td>\n",
       "      <td>6443.0</td>\n",
       "      <td>TAMARACK</td>\n",
       "      <td>Ward 11</td>\n",
       "      <td>Y</td>\n",
       "      <td>53.473516</td>\n",
       "      <td>-113.366455</td>\n",
       "    </tr>\n",
       "    <tr>\n",
       "      <td>2</td>\n",
       "      <td>4252557</td>\n",
       "      <td>NaN</td>\n",
       "      <td>8409.0</td>\n",
       "      <td>156 AVENUE NW</td>\n",
       "      <td>348000</td>\n",
       "      <td>Residential</td>\n",
       "      <td>2050.0</td>\n",
       "      <td>BELLE RIVE</td>\n",
       "      <td>Ward 3</td>\n",
       "      <td>Y</td>\n",
       "      <td>53.616207</td>\n",
       "      <td>-113.472303</td>\n",
       "    </tr>\n",
       "    <tr>\n",
       "      <td>3</td>\n",
       "      <td>10512253</td>\n",
       "      <td>NaN</td>\n",
       "      <td>7046.0</td>\n",
       "      <td>NEWSON ROAD NW</td>\n",
       "      <td>168000</td>\n",
       "      <td>Residential</td>\n",
       "      <td>3111.0</td>\n",
       "      <td>GRIESBACH</td>\n",
       "      <td>Ward 2</td>\n",
       "      <td>N</td>\n",
       "      <td>53.608989</td>\n",
       "      <td>-113.513399</td>\n",
       "    </tr>\n",
       "    <tr>\n",
       "      <td>4</td>\n",
       "      <td>8855603</td>\n",
       "      <td>NaN</td>\n",
       "      <td>7112.0</td>\n",
       "      <td>82 STREET NW</td>\n",
       "      <td>370500</td>\n",
       "      <td>Residential</td>\n",
       "      <td>6020.0</td>\n",
       "      <td>AVONMORE</td>\n",
       "      <td>Ward 11</td>\n",
       "      <td>Y</td>\n",
       "      <td>53.507129</td>\n",
       "      <td>-113.453902</td>\n",
       "    </tr>\n",
       "  </tbody>\n",
       "</table>\n",
       "</div>"
      ],
      "text/plain": [
       "   Account Number Suite  House Number     Street Name  Assessed Value  \\\n",
       "0         8392904   NaN        9035.0    90 STREET NW          352500   \n",
       "1        10063906   NaN        1535.0   37B AVENUE NW          382500   \n",
       "2         4252557   NaN        8409.0   156 AVENUE NW          348000   \n",
       "3        10512253   NaN        7046.0  NEWSON ROAD NW          168000   \n",
       "4         8855603   NaN        7112.0    82 STREET NW          370500   \n",
       "\n",
       "  Assessment Class  Neighbourhood ID Neighbourhood     Ward Garage   Latitude  \\\n",
       "0      Residential            6040.0   BONNIE DOON   Ward 8      Y  53.526362   \n",
       "1      Residential            6443.0      TAMARACK  Ward 11      Y  53.473516   \n",
       "2      Residential            2050.0    BELLE RIVE   Ward 3      Y  53.616207   \n",
       "3      Residential            3111.0     GRIESBACH   Ward 2      N  53.608989   \n",
       "4      Residential            6020.0      AVONMORE  Ward 11      Y  53.507129   \n",
       "\n",
       "    Longitude  \n",
       "0 -113.464935  \n",
       "1 -113.366455  \n",
       "2 -113.472303  \n",
       "3 -113.513399  \n",
       "4 -113.453902  "
      ]
     },
     "execution_count": 3,
     "metadata": {},
     "output_type": "execute_result"
    }
   ],
   "source": [
    "df.head()"
   ]
  },
  {
   "cell_type": "code",
   "execution_count": 4,
   "metadata": {},
   "outputs": [
    {
     "name": "stdout",
     "output_type": "stream",
     "text": [
      "<class 'pandas.core.frame.DataFrame'>\n",
      "RangeIndex: 405973 entries, 0 to 405972\n",
      "Data columns (total 12 columns):\n",
      "Account Number      405973 non-null int64\n",
      "Suite               80070 non-null object\n",
      "House Number        362201 non-null float64\n",
      "Street Name         362201 non-null object\n",
      "Assessed Value      405973 non-null int64\n",
      "Assessment Class    405973 non-null object\n",
      "Neighbourhood ID    405972 non-null float64\n",
      "Neighbourhood       405972 non-null object\n",
      "Ward                405972 non-null object\n",
      "Garage              405973 non-null object\n",
      "Latitude            405973 non-null float64\n",
      "Longitude           405973 non-null float64\n",
      "dtypes: float64(4), int64(2), object(6)\n",
      "memory usage: 37.2+ MB\n"
     ]
    }
   ],
   "source": [
    "df.info()"
   ]
  },
  {
   "cell_type": "markdown",
   "metadata": {},
   "source": [
    "## Process and Visualize Data\n",
    "Basic Histogram getting used, can only be used on columns with only numbers."
   ]
  },
  {
   "cell_type": "code",
   "execution_count": 5,
   "metadata": {},
   "outputs": [
    {
     "data": {
      "image/png": "[encoded data removed]",
      "text/plain": [
       "<Figure size 1440x1080 with 6 Axes>"
      ]
     },
     "metadata": {
      "needs_background": "light"
     },
     "output_type": "display_data"
    }
   ],
   "source": [
    "%matplotlib inline\n",
    "df.hist(bins=50, figsize=(20, 15))\n",
    "plt.show()"
   ]
  },
  {
   "cell_type": "markdown",
   "metadata": {},
   "source": [
    "### Evaluating Each Column"
   ]
  },
  {
   "cell_type": "code",
   "execution_count": 6,
   "metadata": {},
   "outputs": [
    {
     "name": "stdout",
     "output_type": "stream",
     "text": [
      "Account Number 405973\n",
      "Suite 1892\n",
      "House Number 18570\n",
      "Street Name 2886\n",
      "Assessed Value 9140\n",
      "Assessment Class 4\n",
      "Neighbourhood ID 399\n",
      "Neighbourhood 399\n",
      "Ward 12\n",
      "Garage 2\n",
      "Latitude 261510\n",
      "Longitude 261510\n"
     ]
    }
   ],
   "source": [
    "for col in df.columns:\n",
    "    print(col, df[col].nunique())"
   ]
  },
  {
   "cell_type": "markdown",
   "metadata": {},
   "source": [
    "### 1. Account Number: Leave Off\n",
    "Probably not going to be useful. Even if it is, probably not something valid for using in the housing model."
   ]
  },
  {
   "cell_type": "markdown",
   "metadata": {},
   "source": [
    "### 2. Suite: Use Later\n",
    "NOTE: need to clarify way to fill when using with house number.\n",
    "\n",
    "This could be either categorical, or possibly numeric if higher suite numbers means higher floor? Maybe convert to a new column that just uses floor number?  Will need to do some processing and plotting to decide.\n",
    "\n",
    "NOTE: Turns out there's a bunch of strings in the suite column.  Will probably need do some regex stuff if i want to use those ones.\n",
    "\n",
    "NOTE2: Turns out theres the link between suite# and price is a big too sketch to be useful"
   ]
  },
  {
   "cell_type": "code",
   "execution_count": 7,
   "metadata": {},
   "outputs": [
    {
     "data": {
      "text/plain": [
       "201      1054\n",
       "202      1016\n",
       "101       996\n",
       "203       988\n",
       "301       969\n",
       "         ... \n",
       "1333        1\n",
       "D3          1\n",
       "929         1\n",
       "4206        1\n",
       "1-117       1\n",
       "Name: Suite, Length: 1892, dtype: int64"
      ]
     },
     "execution_count": 7,
     "metadata": {},
     "output_type": "execute_result"
    }
   ],
   "source": [
    "# want to find most common suite numbers, notice non ints\n",
    "df.Suite.value_counts().sort_values(ascending=False)"
   ]
  },
  {
   "cell_type": "markdown",
   "metadata": {},
   "source": [
    "Definitely should plot the relationship between different suite number derivatives and assessed price.\n",
    "- First digit vs price\n",
    "- Full number vs price"
   ]
  },
  {
   "cell_type": "code",
   "execution_count": 8,
   "metadata": {},
   "outputs": [],
   "source": [
    "full_suite = df[['Suite', 'Assessed Value']]"
   ]
  },
  {
   "cell_type": "markdown",
   "metadata": {},
   "source": [
    "Need to use Regex to change a bunch of these Suite numbers into integers.  Maybe need to detect the string rows and grab them to look at them."
   ]
  },
  {
   "cell_type": "markdown",
   "metadata": {},
   "source": [
    "### Basic Plotting of Suite# vs Assessed Value\n",
    "First going to make a separate plot of Suite vs Value, after dropping all the rows with string Suites"
   ]
  },
  {
   "cell_type": "code",
   "execution_count": 9,
   "metadata": {},
   "outputs": [],
   "source": [
    "dropped_suite = full_suite.fillna(1)\n",
    "dropped_suite.Suite = dropped_suite.Suite.apply(lambda x: pd.to_numeric(x, errors='coerce'))\n",
    "dropped_suite.Suite = dropped_suite.Suite.dropna()"
   ]
  },
  {
   "cell_type": "markdown",
   "metadata": {},
   "source": [
    "Apparently tries to convert to numeric, making any fails into NaN, then fills with 1.  In this case i want to drop "
   ]
  },
  {
   "cell_type": "code",
   "execution_count": 10,
   "metadata": {},
   "outputs": [],
   "source": [
    "dropped_suite = dropped_suite[dropped_suite.Suite < 1000]\n",
    "dropped_suite = dropped_suite[dropped_suite[\"Assessed Value\"] < 0.5e9]\n",
    "x = dropped_suite.Suite\n",
    "y = dropped_suite[\"Assessed Value\"]"
   ]
  },
  {
   "cell_type": "code",
   "execution_count": 11,
   "metadata": {},
   "outputs": [
    {
     "data": {
      "text/plain": [
       "399742    921.0\n",
       "296211    918.0\n",
       "284434    917.0\n",
       "98145     916.0\n",
       "169939    915.0\n",
       "351992    914.0\n",
       "33521     913.0\n",
       "68697     913.0\n",
       "310613    912.0\n",
       "360297    912.0\n",
       "Name: Suite, dtype: float64"
      ]
     },
     "execution_count": 11,
     "metadata": {},
     "output_type": "execute_result"
    }
   ],
   "source": [
    "dropped_suite.Suite.sort_values(ascending=False)[10:20]"
   ]
  },
  {
   "cell_type": "markdown",
   "metadata": {},
   "source": [
    "### Plotting by First Digit"
   ]
  },
  {
   "cell_type": "code",
   "execution_count": null,
   "metadata": {},
   "outputs": [],
   "source": []
  },
  {
   "cell_type": "markdown",
   "metadata": {},
   "source": [
    "Final: Suite Doesn't really seem useable at the moment. Cleaning the data enough that its plottable seems sketchy.  It's also a question of pipeline for cleaning before it enters the model."
   ]
  },
  {
   "cell_type": "markdown",
   "metadata": {},
   "source": [
    "## 3. House Number\n",
    "Doesn't seem likely, but will do some investigation."
   ]
  },
  {
   "cell_type": "code",
   "execution_count": 12,
   "metadata": {},
   "outputs": [],
   "source": [
    "drop_house = df[['House Number', 'Assessed Value']]\n",
    "drop_house = drop_house.dropna()\n",
    "drop_house = drop_house[drop_house['House Number'] < 3000]"
   ]
  },
  {
   "cell_type": "code",
   "execution_count": 13,
   "metadata": {},
   "outputs": [],
   "source": [
    "x = drop_house['House Number']\n",
    "y = drop_house['Assessed Value']"
   ]
  },
  {
   "cell_type": "code",
   "execution_count": 14,
   "metadata": {},
   "outputs": [
    {
     "data": {
      "text/plain": [
       "111.0     351\n",
       "320.0     329\n",
       "603.0     299\n",
       "655.0     290\n",
       "230.0     285\n",
       "         ... \n",
       "2199.0      1\n",
       "2200.0      1\n",
       "2894.0      1\n",
       "2697.0      1\n",
       "2496.0      1\n",
       "Name: House Number, Length: 2993, dtype: int64"
      ]
     },
     "execution_count": 14,
     "metadata": {},
     "output_type": "execute_result"
    }
   ],
   "source": [
    "x.value_counts()"
   ]
  },
  {
   "cell_type": "code",
   "execution_count": 15,
   "metadata": {},
   "outputs": [
    {
     "data": {
      "text/plain": [
       "<matplotlib.collections.PathCollection at 0x7fe297eea750>"
      ]
     },
     "execution_count": 15,
     "metadata": {},
     "output_type": "execute_result"
    },
    {
     "data": {
      "image/png": "[encoded data removed]",
      "text/plain": [
       "<Figure size 432x288 with 1 Axes>"
      ]
     },
     "metadata": {
      "needs_background": "light"
     },
     "output_type": "display_data"
    }
   ],
   "source": [
    "plt.scatter(x, y)"
   ]
  },
  {
   "cell_type": "markdown",
   "metadata": {},
   "source": [
    "House Number seems kinda random. Not super into it."
   ]
  },
  {
   "cell_type": "markdown",
   "metadata": {},
   "source": [
    "## 4. Street Name\n",
    "This is categorical. Certain streets should definitely have more value."
   ]
  },
  {
   "cell_type": "markdown",
   "metadata": {},
   "source": [
    "## 5. Assessed Value\n",
    "This is the dependent variable to predict."
   ]
  },
  {
   "cell_type": "markdown",
   "metadata": {},
   "source": [
    "## 6. Assessment Class\n",
    "This is categorical. Should def have an impact on prediction."
   ]
  },
  {
   "cell_type": "markdown",
   "metadata": {},
   "source": [
    "## 7. Neighbourhood ID\n",
    "This is a number, but also categorical. Only need either this or Neighbourhood name."
   ]
  },
  {
   "cell_type": "markdown",
   "metadata": {},
   "source": [
    "## 8. Neighbourhood\n",
    "This is just the Neighbourhood. Need either this or NID above."
   ]
  },
  {
   "cell_type": "markdown",
   "metadata": {},
   "source": [
    "## 9. Ward\n",
    "Wards are another category of separation in the city. It could be useful."
   ]
  },
  {
   "cell_type": "markdown",
   "metadata": {},
   "source": [
    "## 10. Garage\n",
    "This is just a categorical saying if the property has a garage or not.  Should be useful"
   ]
  },
  {
   "cell_type": "markdown",
   "metadata": {},
   "source": [
    "## 11. Latitude\n",
    "Geographic location x"
   ]
  },
  {
   "cell_type": "code",
   "execution_count": 16,
   "metadata": {},
   "outputs": [],
   "source": [
    "latx = df.Latitude\n",
    "y = df['Assessed Value']"
   ]
  },
  {
   "cell_type": "code",
   "execution_count": 17,
   "metadata": {},
   "outputs": [
    {
     "data": {
      "text/plain": [
       "<matplotlib.collections.PathCollection at 0x7fe297fe27d0>"
      ]
     },
     "execution_count": 17,
     "metadata": {},
     "output_type": "execute_result"
    },
    {
     "data": {
      "image/png": "[encoded data removed]",
      "text/plain": [
       "<Figure size 432x288 with 1 Axes>"
      ]
     },
     "metadata": {
      "needs_background": "light"
     },
     "output_type": "display_data"
    }
   ],
   "source": [
    "plt.scatter(latx, y)"
   ]
  },
  {
   "cell_type": "markdown",
   "metadata": {},
   "source": [
    "## 12. Longitude\n",
    "Same as lat but y"
   ]
  },
  {
   "cell_type": "code",
   "execution_count": 18,
   "metadata": {},
   "outputs": [],
   "source": [
    "longx = df.Longitude"
   ]
  },
  {
   "cell_type": "code",
   "execution_count": 19,
   "metadata": {},
   "outputs": [
    {
     "data": {
      "text/plain": [
       "<matplotlib.collections.PathCollection at 0x7fe297e0c910>"
      ]
     },
     "execution_count": 19,
     "metadata": {},
     "output_type": "execute_result"
    },
    {
     "data": {
      "image/png": "[encoded data removed]",
      "text/plain": [
       "<Figure size 432x288 with 1 Axes>"
      ]
     },
     "metadata": {
      "needs_background": "light"
     },
     "output_type": "display_data"
    }
   ],
   "source": [
    "plt.scatter(longx, y)"
   ]
  },
  {
   "cell_type": "markdown",
   "metadata": {},
   "source": [
    "For latitude and longitude, seems that being in the middle of the city, with a few exceptions, is correlated with property higher value."
   ]
  },
  {
   "cell_type": "code",
   "execution_count": 20,
   "metadata": {},
   "outputs": [
    {
     "data": {
      "text/html": [
       "<div>\n",
       "<style scoped>\n",
       "    .dataframe tbody tr th:only-of-type {\n",
       "        vertical-align: middle;\n",
       "    }\n",
       "\n",
       "    .dataframe tbody tr th {\n",
       "        vertical-align: top;\n",
       "    }\n",
       "\n",
       "    .dataframe thead th {\n",
       "        text-align: right;\n",
       "    }\n",
       "</style>\n",
       "<table border=\"1\" class=\"dataframe\">\n",
       "  <thead>\n",
       "    <tr style=\"text-align: right;\">\n",
       "      <th></th>\n",
       "      <th>Account Number</th>\n",
       "      <th>Suite</th>\n",
       "      <th>House Number</th>\n",
       "      <th>Street Name</th>\n",
       "      <th>Assessed Value</th>\n",
       "      <th>Assessment Class</th>\n",
       "      <th>Neighbourhood ID</th>\n",
       "      <th>Neighbourhood</th>\n",
       "      <th>Ward</th>\n",
       "      <th>Garage</th>\n",
       "      <th>Latitude</th>\n",
       "      <th>Longitude</th>\n",
       "    </tr>\n",
       "  </thead>\n",
       "  <tbody>\n",
       "    <tr>\n",
       "      <td>0</td>\n",
       "      <td>8392904</td>\n",
       "      <td>NaN</td>\n",
       "      <td>9035.0</td>\n",
       "      <td>90 STREET NW</td>\n",
       "      <td>352500</td>\n",
       "      <td>Residential</td>\n",
       "      <td>6040.0</td>\n",
       "      <td>BONNIE DOON</td>\n",
       "      <td>Ward 8</td>\n",
       "      <td>Y</td>\n",
       "      <td>53.526362</td>\n",
       "      <td>-113.464935</td>\n",
       "    </tr>\n",
       "  </tbody>\n",
       "</table>\n",
       "</div>"
      ],
      "text/plain": [
       "   Account Number Suite  House Number   Street Name  Assessed Value  \\\n",
       "0         8392904   NaN        9035.0  90 STREET NW          352500   \n",
       "\n",
       "  Assessment Class  Neighbourhood ID Neighbourhood    Ward Garage   Latitude  \\\n",
       "0      Residential            6040.0   BONNIE DOON  Ward 8      Y  53.526362   \n",
       "\n",
       "    Longitude  \n",
       "0 -113.464935  "
      ]
     },
     "execution_count": 20,
     "metadata": {},
     "output_type": "execute_result"
    }
   ],
   "source": [
    "df.head(1)"
   ]
  },
  {
   "cell_type": "markdown",
   "metadata": {},
   "source": [
    "### Fastai Tabular Data Model"
   ]
  },
  {
   "cell_type": "markdown",
   "metadata": {},
   "source": [
    "#### Straight From source first, no manual cleaning"
   ]
  },
  {
   "cell_type": "code",
   "execution_count": 21,
   "metadata": {},
   "outputs": [
    {
     "data": {
      "text/plain": [
       "Index(['Account Number', 'Suite', 'House Number', 'Street Name',\n",
       "       'Assessed Value', 'Assessment Class', 'Neighbourhood ID',\n",
       "       'Neighbourhood', 'Ward', 'Garage', 'Latitude', 'Longitude'],\n",
       "      dtype='object')"
      ]
     },
     "execution_count": 21,
     "metadata": {},
     "output_type": "execute_result"
    }
   ],
   "source": [
    "df.columns"
   ]
  },
  {
   "cell_type": "code",
   "execution_count": 22,
   "metadata": {},
   "outputs": [],
   "source": [
    "dep_var = 'Assessed Value'\n",
    "cat_names = ['Account Number', 'Suite', 'House Number', 'Street Name', 'Assessment Class', 'Neighbourhood ID', 'Ward', 'Garage']\n",
    "cont_names = ['Latitude', 'Longitude']\n",
    "procs = [FillMissing, Categorify, Normalize]"
   ]
  },
  {
   "cell_type": "code",
   "execution_count": 77,
   "metadata": {},
   "outputs": [],
   "source": [
    "data = (TabularList.from_df(df, path=path, cat_names=cat_names, cont_names=cont_names, procs=procs)\n",
    "                           .split_by_idx(list(range(800,1000)))\n",
    "                           .label_from_df(cols=dep_var)\n",
    "                           .databunch())"
   ]
  },
  {
   "cell_type": "code",
   "execution_count": 78,
   "metadata": {},
   "outputs": [
    {
     "data": {
      "text/plain": [
       "PosixPath('datasets/models')"
      ]
     },
     "execution_count": 78,
     "metadata": {},
     "output_type": "execute_result"
    }
   ],
   "source": [
    "learn.path"
   ]
  },
  {
   "cell_type": "code",
   "execution_count": 79,
   "metadata": {},
   "outputs": [],
   "source": [
    "from pathlib import Path"
   ]
  },
  {
   "cell_type": "code",
   "execution_count": 80,
   "metadata": {},
   "outputs": [],
   "source": [
    "learn.path = Path('datasets/models')"
   ]
  },
  {
   "cell_type": "code",
   "execution_count": 81,
   "metadata": {},
   "outputs": [
    {
     "data": {
      "text/html": [
       "<table border=\"1\" class=\"dataframe\">\n",
       "  <thead>\n",
       "    <tr style=\"text-align: right;\">\n",
       "      <th>Street Name</th>\n",
       "      <th>Assessment Class</th>\n",
       "      <th>Neighbourhood ID</th>\n",
       "      <th>Ward</th>\n",
       "      <th>Garage</th>\n",
       "      <th>Latitude</th>\n",
       "      <th>Longitude</th>\n",
       "      <th>target</th>\n",
       "    </tr>\n",
       "  </thead>\n",
       "  <tbody>\n",
       "    <tr>\n",
       "      <td>JASPER AVENUE NW</td>\n",
       "      <td>Residential</td>\n",
       "      <td>1020.0</td>\n",
       "      <td>Ward 6</td>\n",
       "      <td>N</td>\n",
       "      <td>0.4669</td>\n",
       "      <td>0.4531</td>\n",
       "      <td>287500</td>\n",
       "    </tr>\n",
       "    <tr>\n",
       "      <td>CASSIDY WAY SW</td>\n",
       "      <td>Residential</td>\n",
       "      <td>5462.0</td>\n",
       "      <td>Ward 10</td>\n",
       "      <td>Y</td>\n",
       "      <td>-1.7249</td>\n",
       "      <td>-0.8591</td>\n",
       "      <td>468000</td>\n",
       "    </tr>\n",
       "    <tr>\n",
       "      <td>#na#</td>\n",
       "      <td>Other Residential</td>\n",
       "      <td>2550.0</td>\n",
       "      <td>Ward 7</td>\n",
       "      <td>N</td>\n",
       "      <td>0.7547</td>\n",
       "      <td>0.7392</td>\n",
       "      <td>112000</td>\n",
       "    </tr>\n",
       "    <tr>\n",
       "      <td>112 STREET SW</td>\n",
       "      <td>Residential</td>\n",
       "      <td>5454.0</td>\n",
       "      <td>Ward 10</td>\n",
       "      <td>Y</td>\n",
       "      <td>-1.4453</td>\n",
       "      <td>-0.0772</td>\n",
       "      <td>496500</td>\n",
       "    </tr>\n",
       "    <tr>\n",
       "      <td>107A AVENUE NW</td>\n",
       "      <td>Residential</td>\n",
       "      <td>3300.0</td>\n",
       "      <td>Ward 1</td>\n",
       "      <td>Y</td>\n",
       "      <td>0.4726</td>\n",
       "      <td>-0.7720</td>\n",
       "      <td>360000</td>\n",
       "    </tr>\n",
       "  </tbody>\n",
       "</table>"
      ],
      "text/plain": [
       "<IPython.core.display.HTML object>"
      ]
     },
     "metadata": {},
     "output_type": "display_data"
    }
   ],
   "source": [
    "data.show_batch(rows=5)"
   ]
  },
  {
   "cell_type": "code",
   "execution_count": 83,
   "metadata": {},
   "outputs": [],
   "source": [
    "learn = tabular_learner(data, layers=[200, 100], metrics=accuracy)"
   ]
  },
  {
   "cell_type": "code",
   "execution_count": 84,
   "metadata": {},
   "outputs": [
    {
     "data": {
      "text/html": [
       "\n",
       "    <div>\n",
       "        <style>\n",
       "            /* Turns off some styling */\n",
       "            progress {\n",
       "                /* gets rid of default border in Firefox and Opera. */\n",
       "                border: none;\n",
       "                /* Needs to be in here for Safari polyfill so background images work as expected. */\n",
       "                background-size: auto;\n",
       "            }\n",
       "            .progress-bar-interrupted, .progress-bar-interrupted::-webkit-progress-bar {\n",
       "                background: #F44336;\n",
       "            }\n",
       "        </style>\n",
       "      <progress value='0' class='' max='1', style='width:300px; height:20px; vertical-align: middle;'></progress>\n",
       "      0.00% [0/1 00:00<00:00]\n",
       "    </div>\n",
       "    \n",
       "<table border=\"1\" class=\"dataframe\">\n",
       "  <thead>\n",
       "    <tr style=\"text-align: left;\">\n",
       "      <th>epoch</th>\n",
       "      <th>train_loss</th>\n",
       "      <th>valid_loss</th>\n",
       "      <th>accuracy</th>\n",
       "      <th>time</th>\n",
       "    </tr>\n",
       "  </thead>\n",
       "  <tbody>\n",
       "  </tbody>\n",
       "</table><p>\n",
       "\n",
       "    <div>\n",
       "        <style>\n",
       "            /* Turns off some styling */\n",
       "            progress {\n",
       "                /* gets rid of default border in Firefox and Opera. */\n",
       "                border: none;\n",
       "                /* Needs to be in here for Safari polyfill so background images work as expected. */\n",
       "                background-size: auto;\n",
       "            }\n",
       "            .progress-bar-interrupted, .progress-bar-interrupted::-webkit-progress-bar {\n",
       "                background: #F44336;\n",
       "            }\n",
       "        </style>\n",
       "      <progress value='81' class='' max='6340', style='width:300px; height:20px; vertical-align: middle;'></progress>\n",
       "      1.28% [81/6340 00:00<00:48 9.0090]\n",
       "    </div>\n",
       "    "
      ],
      "text/plain": [
       "<IPython.core.display.HTML object>"
      ]
     },
     "metadata": {},
     "output_type": "display_data"
    },
    {
     "name": "stdout",
     "output_type": "stream",
     "text": [
      "LR Finder is complete, type {learner_name}.recorder.plot() to see the graph.\n"
     ]
    }
   ],
   "source": [
    "learn.lr_find()"
   ]
  },
  {
   "cell_type": "code",
   "execution_count": 85,
   "metadata": {},
   "outputs": [
    {
     "data": {
      "image/png": "[encoded data removed]",
      "text/plain": [
       "<Figure size 432x288 with 1 Axes>"
      ]
     },
     "metadata": {
      "needs_background": "light"
     },
     "output_type": "display_data"
    }
   ],
   "source": [
    "learn.recorder.plot()"
   ]
  },
  {
   "cell_type": "code",
   "execution_count": 90,
   "metadata": {},
   "outputs": [
    {
     "data": {
      "text/html": [
       "<table border=\"1\" class=\"dataframe\">\n",
       "  <thead>\n",
       "    <tr style=\"text-align: left;\">\n",
       "      <th>epoch</th>\n",
       "      <th>train_loss</th>\n",
       "      <th>valid_loss</th>\n",
       "      <th>accuracy</th>\n",
       "      <th>time</th>\n",
       "    </tr>\n",
       "  </thead>\n",
       "  <tbody>\n",
       "    <tr>\n",
       "      <td>0</td>\n",
       "      <td>5.789088</td>\n",
       "      <td>5.542234</td>\n",
       "      <td>0.077320</td>\n",
       "      <td>00:25</td>\n",
       "    </tr>\n",
       "    <tr>\n",
       "      <td>1</td>\n",
       "      <td>5.811035</td>\n",
       "      <td>5.612938</td>\n",
       "      <td>0.087629</td>\n",
       "      <td>00:25</td>\n",
       "    </tr>\n",
       "    <tr>\n",
       "      <td>2</td>\n",
       "      <td>5.883242</td>\n",
       "      <td>5.560423</td>\n",
       "      <td>0.118557</td>\n",
       "      <td>00:25</td>\n",
       "    </tr>\n",
       "    <tr>\n",
       "      <td>3</td>\n",
       "      <td>5.808523</td>\n",
       "      <td>5.624767</td>\n",
       "      <td>0.103093</td>\n",
       "      <td>00:25</td>\n",
       "    </tr>\n",
       "    <tr>\n",
       "      <td>4</td>\n",
       "      <td>5.842242</td>\n",
       "      <td>5.497799</td>\n",
       "      <td>0.118557</td>\n",
       "      <td>00:25</td>\n",
       "    </tr>\n",
       "    <tr>\n",
       "      <td>5</td>\n",
       "      <td>5.776875</td>\n",
       "      <td>5.485713</td>\n",
       "      <td>0.113402</td>\n",
       "      <td>00:25</td>\n",
       "    </tr>\n",
       "    <tr>\n",
       "      <td>6</td>\n",
       "      <td>5.863748</td>\n",
       "      <td>5.549132</td>\n",
       "      <td>0.118557</td>\n",
       "      <td>00:25</td>\n",
       "    </tr>\n",
       "    <tr>\n",
       "      <td>7</td>\n",
       "      <td>5.875908</td>\n",
       "      <td>5.414258</td>\n",
       "      <td>0.108247</td>\n",
       "      <td>00:25</td>\n",
       "    </tr>\n",
       "    <tr>\n",
       "      <td>8</td>\n",
       "      <td>5.823352</td>\n",
       "      <td>5.480169</td>\n",
       "      <td>0.139175</td>\n",
       "      <td>00:25</td>\n",
       "    </tr>\n",
       "    <tr>\n",
       "      <td>9</td>\n",
       "      <td>5.836423</td>\n",
       "      <td>5.571071</td>\n",
       "      <td>0.092784</td>\n",
       "      <td>00:26</td>\n",
       "    </tr>\n",
       "    <tr>\n",
       "      <td>10</td>\n",
       "      <td>5.898304</td>\n",
       "      <td>5.640450</td>\n",
       "      <td>0.128866</td>\n",
       "      <td>00:26</td>\n",
       "    </tr>\n",
       "    <tr>\n",
       "      <td>11</td>\n",
       "      <td>5.808806</td>\n",
       "      <td>5.545408</td>\n",
       "      <td>0.108247</td>\n",
       "      <td>00:25</td>\n",
       "    </tr>\n",
       "    <tr>\n",
       "      <td>12</td>\n",
       "      <td>5.823550</td>\n",
       "      <td>5.501090</td>\n",
       "      <td>0.113402</td>\n",
       "      <td>00:25</td>\n",
       "    </tr>\n",
       "    <tr>\n",
       "      <td>13</td>\n",
       "      <td>5.753497</td>\n",
       "      <td>5.568873</td>\n",
       "      <td>0.103093</td>\n",
       "      <td>00:25</td>\n",
       "    </tr>\n",
       "    <tr>\n",
       "      <td>14</td>\n",
       "      <td>5.777510</td>\n",
       "      <td>5.589999</td>\n",
       "      <td>0.097938</td>\n",
       "      <td>00:25</td>\n",
       "    </tr>\n",
       "    <tr>\n",
       "      <td>15</td>\n",
       "      <td>5.817573</td>\n",
       "      <td>5.611610</td>\n",
       "      <td>0.092784</td>\n",
       "      <td>00:26</td>\n",
       "    </tr>\n",
       "    <tr>\n",
       "      <td>16</td>\n",
       "      <td>5.840994</td>\n",
       "      <td>5.574452</td>\n",
       "      <td>0.103093</td>\n",
       "      <td>00:25</td>\n",
       "    </tr>\n",
       "    <tr>\n",
       "      <td>17</td>\n",
       "      <td>5.797000</td>\n",
       "      <td>5.520528</td>\n",
       "      <td>0.123711</td>\n",
       "      <td>00:25</td>\n",
       "    </tr>\n",
       "    <tr>\n",
       "      <td>18</td>\n",
       "      <td>5.871585</td>\n",
       "      <td>5.699556</td>\n",
       "      <td>0.113402</td>\n",
       "      <td>00:25</td>\n",
       "    </tr>\n",
       "    <tr>\n",
       "      <td>19</td>\n",
       "      <td>5.719743</td>\n",
       "      <td>5.443409</td>\n",
       "      <td>0.092784</td>\n",
       "      <td>00:25</td>\n",
       "    </tr>\n",
       "  </tbody>\n",
       "</table>"
      ],
      "text/plain": [
       "<IPython.core.display.HTML object>"
      ]
     },
     "metadata": {},
     "output_type": "display_data"
    }
   ],
   "source": [
    "learn.fit(20, 1e-2)"
   ]
  },
  {
   "cell_type": "markdown",
   "metadata": {},
   "source": [
    "probably check metrics"
   ]
  },
  {
   "cell_type": "code",
   "execution_count": 92,
   "metadata": {},
   "outputs": [],
   "source": [
    "learn.save('20epoch')"
   ]
  },
  {
   "cell_type": "code",
   "execution_count": 93,
   "metadata": {},
   "outputs": [
    {
     "data": {
      "text/plain": [
       "Account Number           10063906\n",
       "Suite                         NaN\n",
       "House Number                 1535\n",
       "Street Name         37B AVENUE NW\n",
       "Assessed Value             382500\n",
       "Assessment Class      Residential\n",
       "Neighbourhood ID             6443\n",
       "Neighbourhood            TAMARACK\n",
       "Ward                      Ward 11\n",
       "Garage                          Y\n",
       "Latitude                  53.4735\n",
       "Longitude                -113.366\n",
       "Name: 1, dtype: object"
      ]
     },
     "execution_count": 93,
     "metadata": {},
     "output_type": "execute_result"
    }
   ],
   "source": [
    "df.iloc[1]"
   ]
  },
  {
   "cell_type": "code",
   "execution_count": 94,
   "metadata": {},
   "outputs": [
    {
     "data": {
      "text/plain": [
       "(Category 429000,\n",
       " tensor(859),\n",
       " tensor([3.5940e-05, 8.5167e-05, 1.2250e-04,  ..., 1.9694e-09, 1.2512e-09,\n",
       "         1.5914e-08]))"
      ]
     },
     "execution_count": 94,
     "metadata": {},
     "output_type": "execute_result"
    }
   ],
   "source": [
    "learn.predict(df.iloc[1])"
   ]
  },
  {
   "cell_type": "code",
   "execution_count": 95,
   "metadata": {},
   "outputs": [
    {
     "data": {
      "text/plain": [
       "Account Number            4252557\n",
       "Suite                         NaN\n",
       "House Number                 8409\n",
       "Street Name         156 AVENUE NW\n",
       "Assessed Value             348000\n",
       "Assessment Class      Residential\n",
       "Neighbourhood ID             2050\n",
       "Neighbourhood          BELLE RIVE\n",
       "Ward                       Ward 3\n",
       "Garage                          Y\n",
       "Latitude                  53.6162\n",
       "Longitude                -113.472\n",
       "Name: 2, dtype: object"
      ]
     },
     "execution_count": 95,
     "metadata": {},
     "output_type": "execute_result"
    }
   ],
   "source": [
    "df.iloc[2]"
   ]
  },
  {
   "cell_type": "code",
   "execution_count": 96,
   "metadata": {},
   "outputs": [
    {
     "data": {
      "text/plain": [
       "(Category 424000,\n",
       " tensor(849),\n",
       " tensor([1.6712e-04, 1.7215e-04, 4.3011e-04,  ..., 6.8399e-09, 1.1522e-09,\n",
       "         4.4214e-08]))"
      ]
     },
     "execution_count": 96,
     "metadata": {},
     "output_type": "execute_result"
    }
   ],
   "source": [
    "learn.predict(df.iloc[2])"
   ]
  },
  {
   "cell_type": "code",
   "execution_count": 76,
   "metadata": {},
   "outputs": [],
   "source": [
    "dep_var = 'Assessed Value'\n",
    "cat_names = ['Street Name', 'Assessment Class', 'Neighbourhood ID', 'Ward', 'Garage']\n",
    "cont_names = ['Latitude', 'Longitude']\n",
    "procs = [FillMissing, Categorify, Normalize]"
   ]
  },
  {
   "cell_type": "code",
   "execution_count": null,
   "metadata": {},
   "outputs": [],
   "source": []
  }
 ],
 "metadata": {
  "kernelspec": {
   "display_name": "Python 3",
   "language": "python",
   "name": "python3"
  },
  "language_info": {
   "codemirror_mode": {
    "name": "ipython",
    "version": 3
   },
   "file_extension": ".py",
   "mimetype": "text/x-python",
   "name": "python",
   "nbconvert_exporter": "python",
   "pygments_lexer": "ipython3",
   "version": "3.7.4"
  }
 },
 "nbformat": 4,
 "nbformat_minor": 2
}
