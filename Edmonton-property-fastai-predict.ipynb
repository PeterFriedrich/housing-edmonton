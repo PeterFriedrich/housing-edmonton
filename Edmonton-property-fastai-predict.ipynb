{
 "cells": [
  {
   "cell_type": "markdown",
   "metadata": {},
   "source": [
    "# Edmonton Property Price Prediction Using FastAI\n",
    "The machine learning workflow in this notebook is mostly pulled from the FastAI tabular models lesson."
   ]
  },
  {
   "cell_type": "code",
   "execution_count": 2,
   "metadata": {},
   "outputs": [],
   "source": [
    "from fastai.tabular import *"
   ]
  },
  {
   "cell_type": "code",
   "execution_count": 3,
   "metadata": {},
   "outputs": [],
   "source": [
    "path = 'datasets/edmonton-property.csv'\n",
    "df = pd.read_csv(path)"
   ]
  },
  {
   "cell_type": "markdown",
   "metadata": {},
   "source": [
    "Need to specify processing, categorical names, continuous names, and the dependent variable."
   ]
  },
  {
   "cell_type": "code",
   "execution_count": 4,
   "metadata": {},
   "outputs": [
    {
     "data": {
      "text/html": [
       "<div>\n",
       "<style scoped>\n",
       "    .dataframe tbody tr th:only-of-type {\n",
       "        vertical-align: middle;\n",
       "    }\n",
       "\n",
       "    .dataframe tbody tr th {\n",
       "        vertical-align: top;\n",
       "    }\n",
       "\n",
       "    .dataframe thead th {\n",
       "        text-align: right;\n",
       "    }\n",
       "</style>\n",
       "<table border=\"1\" class=\"dataframe\">\n",
       "  <thead>\n",
       "    <tr style=\"text-align: right;\">\n",
       "      <th></th>\n",
       "      <th>Account Number</th>\n",
       "      <th>Suite</th>\n",
       "      <th>House Number</th>\n",
       "      <th>Street Name</th>\n",
       "      <th>Assessed Value</th>\n",
       "      <th>Assessment Class</th>\n",
       "      <th>Neighbourhood ID</th>\n",
       "      <th>Neighbourhood</th>\n",
       "      <th>Ward</th>\n",
       "      <th>Garage</th>\n",
       "      <th>Latitude</th>\n",
       "      <th>Longitude</th>\n",
       "    </tr>\n",
       "  </thead>\n",
       "  <tbody>\n",
       "    <tr>\n",
       "      <th>0</th>\n",
       "      <td>8392904</td>\n",
       "      <td>NaN</td>\n",
       "      <td>9035.0</td>\n",
       "      <td>90 STREET NW</td>\n",
       "      <td>352500</td>\n",
       "      <td>Residential</td>\n",
       "      <td>6040.0</td>\n",
       "      <td>BONNIE DOON</td>\n",
       "      <td>Ward 8</td>\n",
       "      <td>Y</td>\n",
       "      <td>53.526362</td>\n",
       "      <td>-113.464935</td>\n",
       "    </tr>\n",
       "    <tr>\n",
       "      <th>1</th>\n",
       "      <td>10063906</td>\n",
       "      <td>NaN</td>\n",
       "      <td>1535.0</td>\n",
       "      <td>37B AVENUE NW</td>\n",
       "      <td>382500</td>\n",
       "      <td>Residential</td>\n",
       "      <td>6443.0</td>\n",
       "      <td>TAMARACK</td>\n",
       "      <td>Ward 11</td>\n",
       "      <td>Y</td>\n",
       "      <td>53.473516</td>\n",
       "      <td>-113.366455</td>\n",
       "    </tr>\n",
       "    <tr>\n",
       "      <th>2</th>\n",
       "      <td>4252557</td>\n",
       "      <td>NaN</td>\n",
       "      <td>8409.0</td>\n",
       "      <td>156 AVENUE NW</td>\n",
       "      <td>348000</td>\n",
       "      <td>Residential</td>\n",
       "      <td>2050.0</td>\n",
       "      <td>BELLE RIVE</td>\n",
       "      <td>Ward 3</td>\n",
       "      <td>Y</td>\n",
       "      <td>53.616207</td>\n",
       "      <td>-113.472303</td>\n",
       "    </tr>\n",
       "    <tr>\n",
       "      <th>3</th>\n",
       "      <td>10512253</td>\n",
       "      <td>NaN</td>\n",
       "      <td>7046.0</td>\n",
       "      <td>NEWSON ROAD NW</td>\n",
       "      <td>168000</td>\n",
       "      <td>Residential</td>\n",
       "      <td>3111.0</td>\n",
       "      <td>GRIESBACH</td>\n",
       "      <td>Ward 2</td>\n",
       "      <td>N</td>\n",
       "      <td>53.608989</td>\n",
       "      <td>-113.513399</td>\n",
       "    </tr>\n",
       "    <tr>\n",
       "      <th>4</th>\n",
       "      <td>8855603</td>\n",
       "      <td>NaN</td>\n",
       "      <td>7112.0</td>\n",
       "      <td>82 STREET NW</td>\n",
       "      <td>370500</td>\n",
       "      <td>Residential</td>\n",
       "      <td>6020.0</td>\n",
       "      <td>AVONMORE</td>\n",
       "      <td>Ward 11</td>\n",
       "      <td>Y</td>\n",
       "      <td>53.507129</td>\n",
       "      <td>-113.453902</td>\n",
       "    </tr>\n",
       "  </tbody>\n",
       "</table>\n",
       "</div>"
      ],
      "text/plain": [
       "   Account Number Suite  House Number     Street Name  Assessed Value  \\\n",
       "0         8392904   NaN        9035.0    90 STREET NW          352500   \n",
       "1        10063906   NaN        1535.0   37B AVENUE NW          382500   \n",
       "2         4252557   NaN        8409.0   156 AVENUE NW          348000   \n",
       "3        10512253   NaN        7046.0  NEWSON ROAD NW          168000   \n",
       "4         8855603   NaN        7112.0    82 STREET NW          370500   \n",
       "\n",
       "  Assessment Class  Neighbourhood ID Neighbourhood     Ward Garage   Latitude  \\\n",
       "0      Residential            6040.0   BONNIE DOON   Ward 8      Y  53.526362   \n",
       "1      Residential            6443.0      TAMARACK  Ward 11      Y  53.473516   \n",
       "2      Residential            2050.0    BELLE RIVE   Ward 3      Y  53.616207   \n",
       "3      Residential            3111.0     GRIESBACH   Ward 2      N  53.608989   \n",
       "4      Residential            6020.0      AVONMORE  Ward 11      Y  53.507129   \n",
       "\n",
       "    Longitude  \n",
       "0 -113.464935  \n",
       "1 -113.366455  \n",
       "2 -113.472303  \n",
       "3 -113.513399  \n",
       "4 -113.453902  "
      ]
     },
     "execution_count": 4,
     "metadata": {},
     "output_type": "execute_result"
    }
   ],
   "source": [
    "df.head()"
   ]
  },
  {
   "cell_type": "code",
   "execution_count": 5,
   "metadata": {},
   "outputs": [
    {
     "name": "stdout",
     "output_type": "stream",
     "text": [
      "<class 'pandas.core.frame.DataFrame'>\n",
      "RangeIndex: 405973 entries, 0 to 405972\n",
      "Data columns (total 12 columns):\n",
      "Account Number      405973 non-null int64\n",
      "Suite               80070 non-null object\n",
      "House Number        362201 non-null float64\n",
      "Street Name         362201 non-null object\n",
      "Assessed Value      405973 non-null int64\n",
      "Assessment Class    405973 non-null object\n",
      "Neighbourhood ID    405972 non-null float64\n",
      "Neighbourhood       405972 non-null object\n",
      "Ward                405972 non-null object\n",
      "Garage              405973 non-null object\n",
      "Latitude            405973 non-null float64\n",
      "Longitude           405973 non-null float64\n",
      "dtypes: float64(4), int64(2), object(6)\n",
      "memory usage: 37.2+ MB\n"
     ]
    }
   ],
   "source": [
    "df.info()"
   ]
  },
  {
   "cell_type": "markdown",
   "metadata": {},
   "source": [
    "## Process and Visualize Data"
   ]
  },
  {
   "cell_type": "code",
   "execution_count": 9,
   "metadata": {},
   "outputs": [
    {
     "name": "stdout",
     "output_type": "stream",
     "text": [
      "Account Number 405973\n",
      "Suite 1892\n",
      "House Number 18570\n",
      "Street Name 2886\n",
      "Assessed Value 9140\n",
      "Assessment Class 4\n",
      "Neighbourhood ID 399\n",
      "Neighbourhood 399\n",
      "Ward 12\n",
      "Garage 2\n",
      "Latitude 261510\n",
      "Longitude 261510\n"
     ]
    }
   ],
   "source": [
    "for col in df.columns:\n",
    "    print(col, df[col].nunique())"
   ]
  },
  {
   "cell_type": "markdown",
   "metadata": {},
   "source": [
    "### 1. Account Number: Leave Off\n",
    "Probably not going to be useful."
   ]
  },
  {
   "cell_type": "markdown",
   "metadata": {},
   "source": [
    "### 2. Suite: Use\n",
    "This could be either categorical, or possibly numeric if higher suite numbers means higher floor? Maybe convert to a new column that just uses floor number?  Will need to do some processing and plotting to decide.\n",
    "\n",
    "NOTE: Turns out there's a bunch of strings in the suite column.  Will probably need do some regex stuff if i want to use those ones."
   ]
  },
  {
   "cell_type": "code",
   "execution_count": 11,
   "metadata": {},
   "outputs": [
    {
     "data": {
      "text/plain": [
       "201      1054\n",
       "202      1016\n",
       "101       996\n",
       "203       988\n",
       "301       969\n",
       "         ... \n",
       "14709       1\n",
       "5203        1\n",
       "2-305       1\n",
       "5112        1\n",
       "J1          1\n",
       "Name: Suite, Length: 1892, dtype: int64"
      ]
     },
     "execution_count": 11,
     "metadata": {},
     "output_type": "execute_result"
    }
   ],
   "source": [
    "# want to find most common suite numbers, notice non ints\n",
    "df.Suite.value_counts().sort_values(ascending=False)"
   ]
  },
  {
   "cell_type": "code",
   "execution_count": 12,
   "metadata": {},
   "outputs": [
    {
     "data": {
      "text/plain": [
       "count     80070\n",
       "unique     1892\n",
       "top         201\n",
       "freq       1054\n",
       "Name: Suite, dtype: object"
      ]
     },
     "execution_count": 12,
     "metadata": {},
     "output_type": "execute_result"
    }
   ],
   "source": [
    "df.Suite.describe()"
   ]
  },
  {
   "cell_type": "markdown",
   "metadata": {},
   "source": [
    "Definitely should plot the relationship between different suite number derivatives and assessed price.\n",
    "- First digit vs price\n",
    "- Full number vs price"
   ]
  },
  {
   "cell_type": "code",
   "execution_count": 45,
   "metadata": {},
   "outputs": [],
   "source": [
    "full_suite = df[['Suite', 'Assessed Value']]"
   ]
  },
  {
   "cell_type": "markdown",
   "metadata": {},
   "source": [
    "Need to get the suite dtype to be ints.  Stuck as objects of some kind right now."
   ]
  },
  {
   "cell_type": "code",
   "execution_count": 46,
   "metadata": {},
   "outputs": [],
   "source": [
    "full_suite.Suite = full_suite.Suite.apply(lambda x: pd.to_numeric(x, errors='coerce'))\n",
    "full_suite.Suite = full_suite.Suite.fillna(1)"
   ]
  },
  {
   "cell_type": "markdown",
   "metadata": {},
   "source": [
    "Apparently tries to convert to numeric, making any fails into NaN, then fills with 1"
   ]
  },
  {
   "cell_type": "code",
   "execution_count": 50,
   "metadata": {},
   "outputs": [
    {
     "name": "stdout",
     "output_type": "stream",
     "text": [
      "<class 'pandas.core.frame.DataFrame'>\n",
      "RangeIndex: 405973 entries, 0 to 405972\n",
      "Data columns (total 2 columns):\n",
      "Suite             405973 non-null float64\n",
      "Assessed Value    405973 non-null int64\n",
      "dtypes: float64(1), int64(1)\n",
      "memory usage: 6.2 MB\n"
     ]
    }
   ],
   "source": [
    "full_suite.info()"
   ]
  },
  {
   "cell_type": "code",
   "execution_count": null,
   "metadata": {},
   "outputs": [],
   "source": [
    "dep_var = 'Assessed Value'\n",
    "cat_names = ['Street Name', 'Assessment Class',  ]\n",
    "cont_names = []\n",
    "procs = [FillMissing, Categorify, Normalize]"
   ]
  },
  {
   "cell_type": "code",
   "execution_count": null,
   "metadata": {},
   "outputs": [],
   "source": []
  }
 ],
 "metadata": {
  "kernelspec": {
   "display_name": "Python (fastai-env)",
   "language": "python",
   "name": "fastai-env"
  },
  "language_info": {
   "codemirror_mode": {
    "name": "ipython",
    "version": 3
   },
   "file_extension": ".py",
   "mimetype": "text/x-python",
   "name": "python",
   "nbconvert_exporter": "python",
   "pygments_lexer": "ipython3",
   "version": "3.7.5"
  }
 },
 "nbformat": 4,
 "nbformat_minor": 2
}
